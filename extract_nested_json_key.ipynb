{
 "cells": [
  {
   "cell_type": "code",
   "execution_count": 3,
   "metadata": {
    "collapsed": true
   },
   "outputs": [],
   "source": [
    "import pandas as pd\n",
    "from pandas.io.json import json_normalize"
   ]
  },
  {
   "cell_type": "code",
   "execution_count": 4,
   "metadata": {
    "collapsed": false
   },
   "outputs": [],
   "source": [
    "# Assign JSON file to a DataFrame\n",
    "df = pd.read_json('brexit8.txt')"
   ]
  },
  {
   "cell_type": "code",
   "execution_count": 5,
   "metadata": {
    "collapsed": false
   },
   "outputs": [
    {
     "data": {
      "text/html": [
       "<div>\n",
       "<table border=\"1\" class=\"dataframe\">\n",
       "  <thead>\n",
       "    <tr style=\"text-align: right;\">\n",
       "      <th></th>\n",
       "      <th>E07000026</th>\n",
       "      <th>E07000032</th>\n",
       "      <th>E07000223</th>\n",
       "      <th>E07000224</th>\n",
       "      <th>S12000033</th>\n",
       "      <th>S12000034</th>\n",
       "      <th>S12000035</th>\n",
       "      <th>S12000041</th>\n",
       "    </tr>\n",
       "  </thead>\n",
       "  <tbody>\n",
       "    <tr>\n",
       "      <th>0</th>\n",
       "      <td>{'leave': {'total': 31809, 'percent': 58.6}, '...</td>\n",
       "      <td>{'leave': {'total': 44501, 'percent': 60.3}, '...</td>\n",
       "      <td>{'leave': {'total': 20315, 'percent': 54.6}, '...</td>\n",
       "      <td>{'leave': {'total': 56936, 'percent': 62.5}, '...</td>\n",
       "      <td>{'leave': {'total': 40729, 'percent': 38.9}, '...</td>\n",
       "      <td>{'leave': {'total': 62516, 'percent': 45.0}, '...</td>\n",
       "      <td>{'leave': {'total': 19202, 'percent': 39.4}, '...</td>\n",
       "      <td>{'leave': {'total': 26511, 'percent': 44.7}, '...</td>\n",
       "    </tr>\n",
       "  </tbody>\n",
       "</table>\n",
       "</div>"
      ],
      "text/plain": [
       "                                           E07000026  \\\n",
       "0  {'leave': {'total': 31809, 'percent': 58.6}, '...   \n",
       "\n",
       "                                           E07000032  \\\n",
       "0  {'leave': {'total': 44501, 'percent': 60.3}, '...   \n",
       "\n",
       "                                           E07000223  \\\n",
       "0  {'leave': {'total': 20315, 'percent': 54.6}, '...   \n",
       "\n",
       "                                           E07000224  \\\n",
       "0  {'leave': {'total': 56936, 'percent': 62.5}, '...   \n",
       "\n",
       "                                           S12000033  \\\n",
       "0  {'leave': {'total': 40729, 'percent': 38.9}, '...   \n",
       "\n",
       "                                           S12000034  \\\n",
       "0  {'leave': {'total': 62516, 'percent': 45.0}, '...   \n",
       "\n",
       "                                           S12000035  \\\n",
       "0  {'leave': {'total': 19202, 'percent': 39.4}, '...   \n",
       "\n",
       "                                           S12000041  \n",
       "0  {'leave': {'total': 26511, 'percent': 44.7}, '...  "
      ]
     },
     "execution_count": 5,
     "metadata": {},
     "output_type": "execute_result"
    }
   ],
   "source": [
    "df"
   ]
  },
  {
   "cell_type": "code",
   "execution_count": 6,
   "metadata": {
    "collapsed": false
   },
   "outputs": [],
   "source": [
    "# Transpose columns and row\n",
    "df = df.T"
   ]
  },
  {
   "cell_type": "code",
   "execution_count": 7,
   "metadata": {
    "collapsed": false
   },
   "outputs": [
    {
     "data": {
      "text/html": [
       "<div>\n",
       "<table border=\"1\" class=\"dataframe\">\n",
       "  <thead>\n",
       "    <tr style=\"text-align: right;\">\n",
       "      <th></th>\n",
       "      <th>0</th>\n",
       "    </tr>\n",
       "  </thead>\n",
       "  <tbody>\n",
       "    <tr>\n",
       "      <th>E07000026</th>\n",
       "      <td>{'leave': {'total': 31809, 'percent': 58.6}, '...</td>\n",
       "    </tr>\n",
       "    <tr>\n",
       "      <th>E07000032</th>\n",
       "      <td>{'leave': {'total': 44501, 'percent': 60.3}, '...</td>\n",
       "    </tr>\n",
       "    <tr>\n",
       "      <th>E07000223</th>\n",
       "      <td>{'leave': {'total': 20315, 'percent': 54.6}, '...</td>\n",
       "    </tr>\n",
       "    <tr>\n",
       "      <th>E07000224</th>\n",
       "      <td>{'leave': {'total': 56936, 'percent': 62.5}, '...</td>\n",
       "    </tr>\n",
       "    <tr>\n",
       "      <th>S12000033</th>\n",
       "      <td>{'leave': {'total': 40729, 'percent': 38.9}, '...</td>\n",
       "    </tr>\n",
       "  </tbody>\n",
       "</table>\n",
       "</div>"
      ],
      "text/plain": [
       "                                                           0\n",
       "E07000026  {'leave': {'total': 31809, 'percent': 58.6}, '...\n",
       "E07000032  {'leave': {'total': 44501, 'percent': 60.3}, '...\n",
       "E07000223  {'leave': {'total': 20315, 'percent': 54.6}, '...\n",
       "E07000224  {'leave': {'total': 56936, 'percent': 62.5}, '...\n",
       "S12000033  {'leave': {'total': 40729, 'percent': 38.9}, '..."
      ]
     },
     "execution_count": 7,
     "metadata": {},
     "output_type": "execute_result"
    }
   ],
   "source": [
    "df.head()"
   ]
  },
  {
   "cell_type": "code",
   "execution_count": 8,
   "metadata": {
    "collapsed": false
   },
   "outputs": [],
   "source": [
    "# Reset index so we can rename the regions column later\n",
    "df.reset_index(inplace=True)"
   ]
  },
  {
   "cell_type": "code",
   "execution_count": 10,
   "metadata": {
    "collapsed": false
   },
   "outputs": [
    {
     "data": {
      "text/html": [
       "<div>\n",
       "<table border=\"1\" class=\"dataframe\">\n",
       "  <thead>\n",
       "    <tr style=\"text-align: right;\">\n",
       "      <th></th>\n",
       "      <th>region</th>\n",
       "      <th>0</th>\n",
       "    </tr>\n",
       "  </thead>\n",
       "  <tbody>\n",
       "    <tr>\n",
       "      <th>0</th>\n",
       "      <td>E07000026</td>\n",
       "      <td>{'leave': {'total': 31809, 'percent': 58.6}, '...</td>\n",
       "    </tr>\n",
       "    <tr>\n",
       "      <th>1</th>\n",
       "      <td>E07000032</td>\n",
       "      <td>{'leave': {'total': 44501, 'percent': 60.3}, '...</td>\n",
       "    </tr>\n",
       "    <tr>\n",
       "      <th>2</th>\n",
       "      <td>E07000223</td>\n",
       "      <td>{'leave': {'total': 20315, 'percent': 54.6}, '...</td>\n",
       "    </tr>\n",
       "    <tr>\n",
       "      <th>3</th>\n",
       "      <td>E07000224</td>\n",
       "      <td>{'leave': {'total': 56936, 'percent': 62.5}, '...</td>\n",
       "    </tr>\n",
       "    <tr>\n",
       "      <th>4</th>\n",
       "      <td>S12000033</td>\n",
       "      <td>{'leave': {'total': 40729, 'percent': 38.9}, '...</td>\n",
       "    </tr>\n",
       "  </tbody>\n",
       "</table>\n",
       "</div>"
      ],
      "text/plain": [
       "      region                                                  0\n",
       "0  E07000026  {'leave': {'total': 31809, 'percent': 58.6}, '...\n",
       "1  E07000032  {'leave': {'total': 44501, 'percent': 60.3}, '...\n",
       "2  E07000223  {'leave': {'total': 20315, 'percent': 54.6}, '...\n",
       "3  E07000224  {'leave': {'total': 56936, 'percent': 62.5}, '...\n",
       "4  S12000033  {'leave': {'total': 40729, 'percent': 38.9}, '..."
      ]
     },
     "execution_count": 10,
     "metadata": {},
     "output_type": "execute_result"
    }
   ],
   "source": [
    "df.head()"
   ]
  },
  {
   "cell_type": "code",
   "execution_count": 13,
   "metadata": {
    "collapsed": false
   },
   "outputs": [],
   "source": [
    "# Rename index to region\n",
    "df.rename(columns={'index':'region'}, inplace=True)"
   ]
  },
  {
   "cell_type": "code",
   "execution_count": 14,
   "metadata": {
    "collapsed": false
   },
   "outputs": [
    {
     "data": {
      "text/html": [
       "<div>\n",
       "<table border=\"1\" class=\"dataframe\">\n",
       "  <thead>\n",
       "    <tr style=\"text-align: right;\">\n",
       "      <th></th>\n",
       "      <th>region</th>\n",
       "      <th>0</th>\n",
       "    </tr>\n",
       "  </thead>\n",
       "  <tbody>\n",
       "    <tr>\n",
       "      <th>0</th>\n",
       "      <td>E07000026</td>\n",
       "      <td>{'leave': {'total': 31809, 'percent': 58.6}, '...</td>\n",
       "    </tr>\n",
       "    <tr>\n",
       "      <th>1</th>\n",
       "      <td>E07000032</td>\n",
       "      <td>{'leave': {'total': 44501, 'percent': 60.3}, '...</td>\n",
       "    </tr>\n",
       "    <tr>\n",
       "      <th>2</th>\n",
       "      <td>E07000223</td>\n",
       "      <td>{'leave': {'total': 20315, 'percent': 54.6}, '...</td>\n",
       "    </tr>\n",
       "    <tr>\n",
       "      <th>3</th>\n",
       "      <td>E07000224</td>\n",
       "      <td>{'leave': {'total': 56936, 'percent': 62.5}, '...</td>\n",
       "    </tr>\n",
       "    <tr>\n",
       "      <th>4</th>\n",
       "      <td>S12000033</td>\n",
       "      <td>{'leave': {'total': 40729, 'percent': 38.9}, '...</td>\n",
       "    </tr>\n",
       "  </tbody>\n",
       "</table>\n",
       "</div>"
      ],
      "text/plain": [
       "      region                                                  0\n",
       "0  E07000026  {'leave': {'total': 31809, 'percent': 58.6}, '...\n",
       "1  E07000032  {'leave': {'total': 44501, 'percent': 60.3}, '...\n",
       "2  E07000223  {'leave': {'total': 20315, 'percent': 54.6}, '...\n",
       "3  E07000224  {'leave': {'total': 56936, 'percent': 62.5}, '...\n",
       "4  S12000033  {'leave': {'total': 40729, 'percent': 38.9}, '..."
      ]
     },
     "execution_count": 14,
     "metadata": {},
     "output_type": "execute_result"
    }
   ],
   "source": [
    "df.head()"
   ]
  },
  {
   "cell_type": "code",
   "execution_count": 15,
   "metadata": {
    "collapsed": true
   },
   "outputs": [],
   "source": [
    "# Rename 0 labeled column to data so we can reference it later\n",
    "df.rename(columns={0:'data'}, inplace=True)"
   ]
  },
  {
   "cell_type": "code",
   "execution_count": 16,
   "metadata": {
    "collapsed": false
   },
   "outputs": [
    {
     "data": {
      "text/html": [
       "<div>\n",
       "<table border=\"1\" class=\"dataframe\">\n",
       "  <thead>\n",
       "    <tr style=\"text-align: right;\">\n",
       "      <th></th>\n",
       "      <th>region</th>\n",
       "      <th>data</th>\n",
       "    </tr>\n",
       "  </thead>\n",
       "  <tbody>\n",
       "    <tr>\n",
       "      <th>0</th>\n",
       "      <td>E07000026</td>\n",
       "      <td>{'leave': {'total': 31809, 'percent': 58.6}, '...</td>\n",
       "    </tr>\n",
       "    <tr>\n",
       "      <th>1</th>\n",
       "      <td>E07000032</td>\n",
       "      <td>{'leave': {'total': 44501, 'percent': 60.3}, '...</td>\n",
       "    </tr>\n",
       "    <tr>\n",
       "      <th>2</th>\n",
       "      <td>E07000223</td>\n",
       "      <td>{'leave': {'total': 20315, 'percent': 54.6}, '...</td>\n",
       "    </tr>\n",
       "    <tr>\n",
       "      <th>3</th>\n",
       "      <td>E07000224</td>\n",
       "      <td>{'leave': {'total': 56936, 'percent': 62.5}, '...</td>\n",
       "    </tr>\n",
       "    <tr>\n",
       "      <th>4</th>\n",
       "      <td>S12000033</td>\n",
       "      <td>{'leave': {'total': 40729, 'percent': 38.9}, '...</td>\n",
       "    </tr>\n",
       "  </tbody>\n",
       "</table>\n",
       "</div>"
      ],
      "text/plain": [
       "      region                                               data\n",
       "0  E07000026  {'leave': {'total': 31809, 'percent': 58.6}, '...\n",
       "1  E07000032  {'leave': {'total': 44501, 'percent': 60.3}, '...\n",
       "2  E07000223  {'leave': {'total': 20315, 'percent': 54.6}, '...\n",
       "3  E07000224  {'leave': {'total': 56936, 'percent': 62.5}, '...\n",
       "4  S12000033  {'leave': {'total': 40729, 'percent': 38.9}, '..."
      ]
     },
     "execution_count": 16,
     "metadata": {},
     "output_type": "execute_result"
    }
   ],
   "source": [
    "df.head()"
   ]
  },
  {
   "cell_type": "code",
   "execution_count": 17,
   "metadata": {
    "collapsed": true
   },
   "outputs": [],
   "source": [
    "# df['region'] is a single column which is a Series.\n",
    "# Need to convert it into a DataFrame so we can join together 2 DataFrames\n",
    "# because we can't join a Series with a DataFrame directly\n",
    "df_region = pd.DataFrame(df['region'])"
   ]
  },
  {
   "cell_type": "code",
   "execution_count": 18,
   "metadata": {
    "collapsed": false
   },
   "outputs": [
    {
     "data": {
      "text/html": [
       "<div>\n",
       "<table border=\"1\" class=\"dataframe\">\n",
       "  <thead>\n",
       "    <tr style=\"text-align: right;\">\n",
       "      <th></th>\n",
       "      <th>region</th>\n",
       "    </tr>\n",
       "  </thead>\n",
       "  <tbody>\n",
       "    <tr>\n",
       "      <th>0</th>\n",
       "      <td>E07000026</td>\n",
       "    </tr>\n",
       "    <tr>\n",
       "      <th>1</th>\n",
       "      <td>E07000032</td>\n",
       "    </tr>\n",
       "    <tr>\n",
       "      <th>2</th>\n",
       "      <td>E07000223</td>\n",
       "    </tr>\n",
       "    <tr>\n",
       "      <th>3</th>\n",
       "      <td>E07000224</td>\n",
       "    </tr>\n",
       "    <tr>\n",
       "      <th>4</th>\n",
       "      <td>S12000033</td>\n",
       "    </tr>\n",
       "  </tbody>\n",
       "</table>\n",
       "</div>"
      ],
      "text/plain": [
       "      region\n",
       "0  E07000026\n",
       "1  E07000032\n",
       "2  E07000223\n",
       "3  E07000224\n",
       "4  S12000033"
      ]
     },
     "execution_count": 18,
     "metadata": {},
     "output_type": "execute_result"
    }
   ],
   "source": [
    "df_region.head()"
   ]
  },
  {
   "cell_type": "code",
   "execution_count": 19,
   "metadata": {
    "collapsed": false
   },
   "outputs": [
    {
     "data": {
      "text/plain": [
       "0    {'leave': {'total': 31809, 'percent': 58.6}, '...\n",
       "1    {'leave': {'total': 44501, 'percent': 60.3}, '...\n",
       "2    {'leave': {'total': 20315, 'percent': 54.6}, '...\n",
       "3    {'leave': {'total': 56936, 'percent': 62.5}, '...\n",
       "4    {'leave': {'total': 40729, 'percent': 38.9}, '...\n",
       "5    {'leave': {'total': 62516, 'percent': 45.0}, '...\n",
       "6    {'leave': {'total': 19202, 'percent': 39.4}, '...\n",
       "7    {'leave': {'total': 26511, 'percent': 44.7}, '...\n",
       "Name: data, dtype: object"
      ]
     },
     "execution_count": 19,
     "metadata": {},
     "output_type": "execute_result"
    }
   ],
   "source": [
    "# Inspect the data column\n",
    "df['data']"
   ]
  },
  {
   "cell_type": "code",
   "execution_count": 20,
   "metadata": {
    "collapsed": false
   },
   "outputs": [],
   "source": [
    "# Flatten the JSON in the data column into a DataFrame\n",
    "df_data = json_normalize(df['data'])"
   ]
  },
  {
   "cell_type": "code",
   "execution_count": 23,
   "metadata": {
    "collapsed": false
   },
   "outputs": [
    {
     "data": {
      "text/html": [
       "<div>\n",
       "<table border=\"1\" class=\"dataframe\">\n",
       "  <thead>\n",
       "    <tr style=\"text-align: right;\">\n",
       "      <th></th>\n",
       "      <th>leave.percent</th>\n",
       "      <th>leave.total</th>\n",
       "      <th>name</th>\n",
       "      <th>outcome</th>\n",
       "      <th>remain.percent</th>\n",
       "      <th>remain.total</th>\n",
       "      <th>turnout.percent</th>\n",
       "    </tr>\n",
       "  </thead>\n",
       "  <tbody>\n",
       "    <tr>\n",
       "      <th>0</th>\n",
       "      <td>58.6</td>\n",
       "      <td>31809</td>\n",
       "      <td>Allerdale</td>\n",
       "      <td>L</td>\n",
       "      <td>41.4</td>\n",
       "      <td>22429</td>\n",
       "      <td>72.9</td>\n",
       "    </tr>\n",
       "    <tr>\n",
       "      <th>1</th>\n",
       "      <td>60.3</td>\n",
       "      <td>44501</td>\n",
       "      <td>Amber Valley</td>\n",
       "      <td>L</td>\n",
       "      <td>39.7</td>\n",
       "      <td>29319</td>\n",
       "      <td>76.3</td>\n",
       "    </tr>\n",
       "    <tr>\n",
       "      <th>2</th>\n",
       "      <td>54.6</td>\n",
       "      <td>20315</td>\n",
       "      <td>Adur</td>\n",
       "      <td>L</td>\n",
       "      <td>45.4</td>\n",
       "      <td>16914</td>\n",
       "      <td>76.4</td>\n",
       "    </tr>\n",
       "    <tr>\n",
       "      <th>3</th>\n",
       "      <td>62.5</td>\n",
       "      <td>56936</td>\n",
       "      <td>Arun</td>\n",
       "      <td>L</td>\n",
       "      <td>37.5</td>\n",
       "      <td>34193</td>\n",
       "      <td>77.8</td>\n",
       "    </tr>\n",
       "    <tr>\n",
       "      <th>4</th>\n",
       "      <td>38.9</td>\n",
       "      <td>40729</td>\n",
       "      <td>Aberdeen City</td>\n",
       "      <td>R</td>\n",
       "      <td>61.1</td>\n",
       "      <td>63985</td>\n",
       "      <td>67.9</td>\n",
       "    </tr>\n",
       "  </tbody>\n",
       "</table>\n",
       "</div>"
      ],
      "text/plain": [
       "   leave.percent  leave.total           name outcome  remain.percent  \\\n",
       "0           58.6        31809      Allerdale       L            41.4   \n",
       "1           60.3        44501   Amber Valley       L            39.7   \n",
       "2           54.6        20315           Adur       L            45.4   \n",
       "3           62.5        56936           Arun       L            37.5   \n",
       "4           38.9        40729  Aberdeen City       R            61.1   \n",
       "\n",
       "   remain.total  turnout.percent  \n",
       "0         22429             72.9  \n",
       "1         29319             76.3  \n",
       "2         16914             76.4  \n",
       "3         34193             77.8  \n",
       "4         63985             67.9  "
      ]
     },
     "execution_count": 23,
     "metadata": {},
     "output_type": "execute_result"
    }
   ],
   "source": [
    "# Confirm nested JSON converted into their own columns\n",
    "df_data.head()"
   ]
  },
  {
   "cell_type": "code",
   "execution_count": 74,
   "metadata": {
    "collapsed": false
   },
   "outputs": [],
   "source": [
    "# Join the 2 new DataFrames, df_region and df_data\n",
    "df = df_region.join(df_data)"
   ]
  },
  {
   "cell_type": "code",
   "execution_count": 75,
   "metadata": {
    "collapsed": false
   },
   "outputs": [
    {
     "data": {
      "text/html": [
       "<div>\n",
       "<table border=\"1\" class=\"dataframe\">\n",
       "  <thead>\n",
       "    <tr style=\"text-align: right;\">\n",
       "      <th></th>\n",
       "      <th>region</th>\n",
       "      <th>leave.percent</th>\n",
       "      <th>leave.total</th>\n",
       "      <th>name</th>\n",
       "      <th>outcome</th>\n",
       "      <th>remain.percent</th>\n",
       "      <th>remain.total</th>\n",
       "      <th>turnout.percent</th>\n",
       "    </tr>\n",
       "  </thead>\n",
       "  <tbody>\n",
       "    <tr>\n",
       "      <th>0</th>\n",
       "      <td>E07000026</td>\n",
       "      <td>58.6</td>\n",
       "      <td>31809</td>\n",
       "      <td>Allerdale</td>\n",
       "      <td>L</td>\n",
       "      <td>41.4</td>\n",
       "      <td>22429</td>\n",
       "      <td>72.9</td>\n",
       "    </tr>\n",
       "    <tr>\n",
       "      <th>1</th>\n",
       "      <td>E07000032</td>\n",
       "      <td>60.3</td>\n",
       "      <td>44501</td>\n",
       "      <td>Amber Valley</td>\n",
       "      <td>L</td>\n",
       "      <td>39.7</td>\n",
       "      <td>29319</td>\n",
       "      <td>76.3</td>\n",
       "    </tr>\n",
       "    <tr>\n",
       "      <th>2</th>\n",
       "      <td>E07000223</td>\n",
       "      <td>54.6</td>\n",
       "      <td>20315</td>\n",
       "      <td>Adur</td>\n",
       "      <td>L</td>\n",
       "      <td>45.4</td>\n",
       "      <td>16914</td>\n",
       "      <td>76.4</td>\n",
       "    </tr>\n",
       "    <tr>\n",
       "      <th>3</th>\n",
       "      <td>E07000224</td>\n",
       "      <td>62.5</td>\n",
       "      <td>56936</td>\n",
       "      <td>Arun</td>\n",
       "      <td>L</td>\n",
       "      <td>37.5</td>\n",
       "      <td>34193</td>\n",
       "      <td>77.8</td>\n",
       "    </tr>\n",
       "    <tr>\n",
       "      <th>4</th>\n",
       "      <td>S12000033</td>\n",
       "      <td>38.9</td>\n",
       "      <td>40729</td>\n",
       "      <td>Aberdeen City</td>\n",
       "      <td>R</td>\n",
       "      <td>61.1</td>\n",
       "      <td>63985</td>\n",
       "      <td>67.9</td>\n",
       "    </tr>\n",
       "  </tbody>\n",
       "</table>\n",
       "</div>"
      ],
      "text/plain": [
       "      region  leave.percent  leave.total           name outcome  \\\n",
       "0  E07000026           58.6        31809      Allerdale       L   \n",
       "1  E07000032           60.3        44501   Amber Valley       L   \n",
       "2  E07000223           54.6        20315           Adur       L   \n",
       "3  E07000224           62.5        56936           Arun       L   \n",
       "4  S12000033           38.9        40729  Aberdeen City       R   \n",
       "\n",
       "   remain.percent  remain.total  turnout.percent  \n",
       "0            41.4         22429             72.9  \n",
       "1            39.7         29319             76.3  \n",
       "2            45.4         16914             76.4  \n",
       "3            37.5         34193             77.8  \n",
       "4            61.1         63985             67.9  "
      ]
     },
     "execution_count": 75,
     "metadata": {},
     "output_type": "execute_result"
    }
   ],
   "source": [
    "df.head()"
   ]
  },
  {
   "cell_type": "code",
   "execution_count": 76,
   "metadata": {
    "collapsed": true
   },
   "outputs": [],
   "source": [
    "# write DataFrame to a csv file\n",
    "df.to_csv('brexit_json_flattened.csv', index=False)"
   ]
  },
  {
   "cell_type": "code",
   "execution_count": null,
   "metadata": {
    "collapsed": true
   },
   "outputs": [],
   "source": []
  }
 ],
 "metadata": {
  "kernelspec": {
   "display_name": "Python 3.5",
   "language": "python",
   "name": "python3.5"
  },
  "language_info": {
   "codemirror_mode": {
    "name": "ipython",
    "version": 3
   },
   "file_extension": ".py",
   "mimetype": "text/x-python",
   "name": "python",
   "nbconvert_exporter": "python",
   "pygments_lexer": "ipython3",
   "version": "3.5.2"
  }
 },
 "nbformat": 4,
 "nbformat_minor": 0
}
